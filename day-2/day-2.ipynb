{
 "cells": [
  {
   "attachments": {},
   "cell_type": "markdown",
   "metadata": {},
   "source": [
    "# Day 2"
   ]
  },
  {
   "attachments": {},
   "cell_type": "markdown",
   "metadata": {},
   "source": [
    "## Data Basics"
   ]
  },
  {
   "attachments": {},
   "cell_type": "markdown",
   "metadata": {},
   "source": [
    "### Lists\n",
    "\n",
    "Often, we have many measurements for a single metric. For instance, suppose we measure the speed(mph) of a car moving on the highway at one minute intervals. We do not want to store all of those measurements in a series of variables. We can store a `list` of values in a single variable."
   ]
  },
  {
   "cell_type": "code",
   "execution_count": 12,
   "metadata": {},
   "outputs": [],
   "source": [
    "speed = [56, 61, 62, 66, 67, 68, 69, 76, 77, 78]"
   ]
  },
  {
   "attachments": {},
   "cell_type": "markdown",
   "metadata": {},
   "source": [
    "With this list, we can extract information about the car.\n",
    "\n",
    "Is it accelerating or decelerating?\n",
    "\n",
    "What is its average speed over the period of observation?\n",
    "\n",
    "What might the next measurement in this list be?"
   ]
  },
  {
   "cell_type": "code",
   "execution_count": 21,
   "metadata": {},
   "outputs": [
    {
     "name": "stdout",
     "output_type": "stream",
     "text": [
      "increasing: True\n",
      "decreasing: False\n",
      "average speed: 68.0\n",
      "average difference between measurements in speed: 2.4444444444444446\n",
      "extrapolated speed measurement at t=11: 80.44444444444444\n"
     ]
    }
   ],
   "source": [
    "# demo\n",
    "increasing = False\n",
    "for i in range(1, len(speed)):\n",
    "    if speed[i-1] < speed[i]:\n",
    "        increasing = True\n",
    "    else:\n",
    "        increasing = False\n",
    "        break\n",
    "\n",
    "print(f\"increasing: {increasing}\")\n",
    "\n",
    "decreasing = False\n",
    "for i in range(1, len(speed)):\n",
    "    if speed[i-1] > speed[i]:\n",
    "        decreasing = True\n",
    "    else:\n",
    "        decreasing = False\n",
    "        break\n",
    "\n",
    "print(f\"decreasing: {decreasing}\")\n",
    "\n",
    "avg = 0\n",
    "for measurement in speed:\n",
    "    avg += measurement\n",
    "avg /= len(speed)\n",
    "\n",
    "print(f\"average speed: {avg}\")\n",
    "\n",
    "\n",
    "avg_diff = 0\n",
    "for i in range(1, len(speed)):\n",
    "    avg_diff += speed[i] - speed[i-1]\n",
    "avg_diff /= (len(speed) - 1)\n",
    "\n",
    "print(f\"average difference between measurements in speed: {avg_diff}\")\n",
    "print(f\"extrapolated speed measurement at t=11: {speed[-1] + avg_diff}\")"
   ]
  },
  {
   "attachments": {},
   "cell_type": "markdown",
   "metadata": {},
   "source": [
    "Sometimes we want to take parts of the data, we can use slices to do this."
   ]
  },
  {
   "cell_type": "code",
   "execution_count": 22,
   "metadata": {},
   "outputs": [
    {
     "name": "stdout",
     "output_type": "stream",
     "text": [
      "[56, 61, 62, 66, 67]\n",
      "[62, 66, 67, 68, 69]\n",
      "[76, 77, 78]\n"
     ]
    }
   ],
   "source": [
    "print(speed[0:5])\n",
    "print(speed[2:7])\n",
    "print(speed[-3:])"
   ]
  },
  {
   "attachments": {},
   "cell_type": "markdown",
   "metadata": {},
   "source": [
    "More often than not, we will be working with data that has more than one dimension."
   ]
  },
  {
   "cell_type": "code",
   "execution_count": 23,
   "metadata": {},
   "outputs": [
    {
     "data": {
      "text/plain": [
       "<matplotlib.collections.PathCollection at 0x7f82c430fa00>"
      ]
     },
     "execution_count": 23,
     "metadata": {},
     "output_type": "execute_result"
    },
    {
     "data": {
      "image/png": "[encoded data removed]",
      "text/plain": [
       "<Figure size 640x480 with 1 Axes>"
      ]
     },
     "metadata": {},
     "output_type": "display_data"
    }
   ],
   "source": [
    "# each sublist represents \n",
    "# when the measurement was taken and the measurement itself\n",
    "# the first sublist says the measurement is 56mph at t=0\n",
    "speed = [[0, 56], [1, 61], [2, 62], [3, 66], [4, 67],\n",
    "         [5, 68], [6, 69], [7, 76], [8, 77], [9, 78]]\n",
    "\n",
    "import matplotlib.pyplot as plt\n",
    "# example of list comprehention to format data\n",
    "plt.scatter(\n",
    "    [sublist[0] for sublist in speed], \n",
    "    [sublist[1] for sublist in speed]\n",
    ")\n"
   ]
  },
  {
   "attachments": {},
   "cell_type": "markdown",
   "metadata": {},
   "source": [
    "Thankfully, we have libraries to make handling large data easier.\n",
    "\n",
    "https://pandas.pydata.org\n",
    "\n",
    "https://pandas.pydata.org/docs/reference/plotting.html\n",
    "\n"
   ]
  },
  {
   "cell_type": "code",
   "execution_count": 38,
   "metadata": {},
   "outputs": [
    {
     "name": "stdout",
     "output_type": "stream",
     "text": [
      "Index(['TAVG (Degrees Fahrenheit)', 'TMAX (Degrees Fahrenheit)',\n",
      "       'TMIN (Degrees Fahrenheit)', 'PRCP (Inches)', 'SNOW (Inches)',\n",
      "       'SNWD (Inches)'],\n",
      "      dtype='object')\n",
      "Index(['TAVG', 'TMAX', 'TMIN', 'PRCP', 'SNOW', 'SNWD'], dtype='object')\n"
     ]
    }
   ],
   "source": [
    "import pandas as pd\n",
    "\n",
    "# retrieved from https://data.noaa.gov/datasetsearch/\n",
    "data = pd.read_csv(\"./data.csv\", header=1)\n",
    "data['datetime'] = pd.to_datetime(data['Date'])\n",
    "data.drop('Date', axis=1, inplace=True)\n",
    "data = data.set_index('datetime')\n",
    "print(data.columns)\n",
    "data.columns = ['TAVG', 'TMAX', 'TMIN', 'PRCP', 'SNOW', 'SNWD']\n",
    "print(data.columns)"
   ]
  },
  {
   "cell_type": "code",
   "execution_count": 41,
   "metadata": {},
   "outputs": [
    {
     "data": {
      "text/html": [
       "<div>\n",
       "<style scoped>\n",
       "    .dataframe tbody tr th:only-of-type {\n",
       "        vertical-align: middle;\n",
       "    }\n",
       "\n",
       "    .dataframe tbody tr th {\n",
       "        vertical-align: top;\n",
       "    }\n",
       "\n",
       "    .dataframe thead th {\n",
       "        text-align: right;\n",
       "    }\n",
       "</style>\n",
       "<table border=\"1\" class=\"dataframe\">\n",
       "  <thead>\n",
       "    <tr style=\"text-align: right;\">\n",
       "      <th></th>\n",
       "      <th>TAVG</th>\n",
       "      <th>TMAX</th>\n",
       "      <th>TMIN</th>\n",
       "      <th>PRCP</th>\n",
       "      <th>SNOW</th>\n",
       "      <th>SNWD</th>\n",
       "    </tr>\n",
       "  </thead>\n",
       "  <tbody>\n",
       "    <tr>\n",
       "      <th>count</th>\n",
       "      <td>0.0</td>\n",
       "      <td>330.000000</td>\n",
       "      <td>337.000000</td>\n",
       "      <td>363.000000</td>\n",
       "      <td>363.0</td>\n",
       "      <td>360.0</td>\n",
       "    </tr>\n",
       "    <tr>\n",
       "      <th>mean</th>\n",
       "      <td>NaN</td>\n",
       "      <td>89.430303</td>\n",
       "      <td>61.451039</td>\n",
       "      <td>0.005647</td>\n",
       "      <td>0.0</td>\n",
       "      <td>0.0</td>\n",
       "    </tr>\n",
       "    <tr>\n",
       "      <th>std</th>\n",
       "      <td>NaN</td>\n",
       "      <td>15.552333</td>\n",
       "      <td>13.259705</td>\n",
       "      <td>0.038412</td>\n",
       "      <td>0.0</td>\n",
       "      <td>0.0</td>\n",
       "    </tr>\n",
       "    <tr>\n",
       "      <th>min</th>\n",
       "      <td>NaN</td>\n",
       "      <td>60.000000</td>\n",
       "      <td>36.000000</td>\n",
       "      <td>0.000000</td>\n",
       "      <td>0.0</td>\n",
       "      <td>0.0</td>\n",
       "    </tr>\n",
       "    <tr>\n",
       "      <th>25%</th>\n",
       "      <td>NaN</td>\n",
       "      <td>76.000000</td>\n",
       "      <td>50.000000</td>\n",
       "      <td>0.000000</td>\n",
       "      <td>0.0</td>\n",
       "      <td>0.0</td>\n",
       "    </tr>\n",
       "    <tr>\n",
       "      <th>50%</th>\n",
       "      <td>NaN</td>\n",
       "      <td>89.000000</td>\n",
       "      <td>61.000000</td>\n",
       "      <td>0.000000</td>\n",
       "      <td>0.0</td>\n",
       "      <td>0.0</td>\n",
       "    </tr>\n",
       "    <tr>\n",
       "      <th>75%</th>\n",
       "      <td>NaN</td>\n",
       "      <td>103.000000</td>\n",
       "      <td>72.000000</td>\n",
       "      <td>0.000000</td>\n",
       "      <td>0.0</td>\n",
       "      <td>0.0</td>\n",
       "    </tr>\n",
       "    <tr>\n",
       "      <th>max</th>\n",
       "      <td>NaN</td>\n",
       "      <td>118.000000</td>\n",
       "      <td>92.000000</td>\n",
       "      <td>0.440000</td>\n",
       "      <td>0.0</td>\n",
       "      <td>0.0</td>\n",
       "    </tr>\n",
       "  </tbody>\n",
       "</table>\n",
       "</div>"
      ],
      "text/plain": [
       "       TAVG        TMAX        TMIN        PRCP   SNOW   SNWD\n",
       "count   0.0  330.000000  337.000000  363.000000  363.0  360.0\n",
       "mean    NaN   89.430303   61.451039    0.005647    0.0    0.0\n",
       "std     NaN   15.552333   13.259705    0.038412    0.0    0.0\n",
       "min     NaN   60.000000   36.000000    0.000000    0.0    0.0\n",
       "25%     NaN   76.000000   50.000000    0.000000    0.0    0.0\n",
       "50%     NaN   89.000000   61.000000    0.000000    0.0    0.0\n",
       "75%     NaN  103.000000   72.000000    0.000000    0.0    0.0\n",
       "max     NaN  118.000000   92.000000    0.440000    0.0    0.0"
      ]
     },
     "execution_count": 41,
     "metadata": {},
     "output_type": "execute_result"
    }
   ],
   "source": [
    "data[data.index.year == 2000].describe()"
   ]
  },
  {
   "cell_type": "code",
   "execution_count": 46,
   "metadata": {},
   "outputs": [
    {
     "name": "stdout",
     "output_type": "stream",
     "text": [
      "count    330.000000\n",
      "mean      89.430303\n",
      "std       15.552333\n",
      "min       60.000000\n",
      "25%       76.000000\n",
      "50%       89.000000\n",
      "75%      103.000000\n",
      "max      118.000000\n",
      "Name: TMAX, dtype: float64\n"
     ]
    },
    {
     "data": {
      "text/plain": [
       "<AxesSubplot:xlabel='datetime'>"
      ]
     },
     "execution_count": 46,
     "metadata": {},
     "output_type": "execute_result"
    },
    {
     "data": {
      "image/png": "[encoded data removed]",
      "text/plain": [
       "<Figure size 640x480 with 1 Axes>"
      ]
     },
     "metadata": {},
     "output_type": "display_data"
    }
   ],
   "source": [
    "max_temp_2000 = data[data.index.year == 2000].TMAX.dropna()\n",
    "print(max_temp_2000.describe())\n",
    "max_temp_2000.plot()"
   ]
  }
 ],
 "metadata": {
  "kernelspec": {
   "display_name": "base",
   "language": "python",
   "name": "python3"
  },
  "language_info": {
   "codemirror_mode": {
    "name": "ipython",
    "version": 3
   },
   "file_extension": ".py",
   "mimetype": "text/x-python",
   "name": "python",
   "nbconvert_exporter": "python",
   "pygments_lexer": "ipython3",
   "version": "3.9.13"
  },
  "orig_nbformat": 4,
  "vscode": {
   "interpreter": {
    "hash": "5242055664bce074fee279b208219e16322870de4fcc3dd2bf4f58274459c6d0"
   }
  }
 },
 "nbformat": 4,
 "nbformat_minor": 2
}

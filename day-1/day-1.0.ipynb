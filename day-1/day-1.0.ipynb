{
 "cells": [
  {
   "attachments": {},
   "cell_type": "markdown",
   "metadata": {},
   "source": [
    "# Setup\n",
    "#### Anaconda install \n",
    "https://docs.anaconda.com/anaconda/install/index.html\n",
    "\n",
    "#### Vscode install\n",
    "https://code.visualstudio.com/\n",
    "\n",
    "#### Install Python extension\n",
    "\n",
    "https://marketplace.visualstudio.com/items?itemName=ms-python.python\n",
    "\n",
    "Ctrl+P `ext install ms-python.python`\n",
    "\n",
    "Ctrl+shift+p `select python interpreter` -> select conda: base option\n",
    "\n",
    "Ctrl+shift+p `new jupyter notebook`"
   ]
  },
  {
   "attachments": {},
   "cell_type": "markdown",
   "metadata": {},
   "source": [
    "# Day 1"
   ]
  },
  {
   "attachments": {},
   "cell_type": "markdown",
   "metadata": {},
   "source": [
    "## Python Basics"
   ]
  },
  {
   "attachments": {},
   "cell_type": "markdown",
   "metadata": {},
   "source": [
    "### Expressions and Operations"
   ]
  },
  {
   "attachments": {},
   "cell_type": "markdown",
   "metadata": {},
   "source": [
    "Python uses statements to represent a set of steps for a program to execute.\n",
    "\n",
    "https://docs.python.org/3.9/reference/expressions.html"
   ]
  },
  {
   "attachments": {},
   "cell_type": "markdown",
   "metadata": {},
   "source": [
    "Statements can be as simple as adding two numbers."
   ]
  },
  {
   "cell_type": "code",
   "execution_count": 24,
   "metadata": {},
   "outputs": [
    {
     "data": {
      "text/plain": [
       "7"
      ]
     },
     "execution_count": 24,
     "metadata": {},
     "output_type": "execute_result"
    }
   ],
   "source": [
    "3 + 4"
   ]
  },
  {
   "attachments": {},
   "cell_type": "markdown",
   "metadata": {},
   "source": [
    "Or creating a variable."
   ]
  },
  {
   "cell_type": "code",
   "execution_count": 25,
   "metadata": {},
   "outputs": [
    {
     "data": {
      "text/plain": [
       "4"
      ]
     },
     "execution_count": 25,
     "metadata": {},
     "output_type": "execute_result"
    }
   ],
   "source": [
    "x = 4\n",
    "x"
   ]
  },
  {
   "attachments": {},
   "cell_type": "markdown",
   "metadata": {},
   "source": [
    "These statements are called expressions. An expression in Python contains at least one operator and operand.\n",
    "We have many operators avialable to us in Python. The operands below are `x` and `y`.\n",
    "\n",
    "Arithmetic:\n",
    "```py\n",
    "x + y \t# addition\n",
    "x - y \t# subtraction\n",
    "x * y \t# multiplication\n",
    "x / y \t# division\n",
    "x % y \t# modulo\n",
    "x ** y \t# exponent\n",
    "x // y  # floor division\n",
    "```\n",
    "\n",
    "Assignment:\n",
    "```py\n",
    "x = y\n",
    "x += y\n",
    "x -= y\n",
    "x *= y\n",
    "x /= y\n",
    "x %= y\n",
    "x //= y\n",
    "x **= y\n",
    "```\n",
    "\n",
    "Comparison:\n",
    "```py\n",
    "x == y\n",
    "x != y \t\n",
    "x > y \t\n",
    "x < y \t\n",
    "x >= y \t\n",
    "x <= y\n",
    "```\n",
    "\n",
    "Logical:\n",
    "```py\n",
    "x > 4 and y < 7\n",
    "x > 4 or y < 7\n",
    "not x < 4\n",
    "```\n",
    "\n",
    "Let's try some of these. Recall from the cell above, `x = 4`."
   ]
  },
  {
   "cell_type": "code",
   "execution_count": 26,
   "metadata": {},
   "outputs": [
    {
     "data": {
      "text/plain": [
       "-8"
      ]
     },
     "execution_count": 26,
     "metadata": {},
     "output_type": "execute_result"
    }
   ],
   "source": [
    "y = -8\n",
    "y"
   ]
  },
  {
   "cell_type": "code",
   "execution_count": 27,
   "metadata": {},
   "outputs": [
    {
     "data": {
      "text/plain": [
       "12"
      ]
     },
     "execution_count": 27,
     "metadata": {},
     "output_type": "execute_result"
    }
   ],
   "source": [
    "x - y"
   ]
  },
  {
   "cell_type": "code",
   "execution_count": 28,
   "metadata": {},
   "outputs": [
    {
     "data": {
      "text/plain": [
       "-32"
      ]
     },
     "execution_count": 28,
     "metadata": {},
     "output_type": "execute_result"
    }
   ],
   "source": [
    "x *= y\n",
    "x"
   ]
  },
  {
   "attachments": {},
   "cell_type": "markdown",
   "metadata": {},
   "source": [
    "There is an order of operations with these operators. PEMDAS still holds with arithmetic operators, but we have more operators than that! In programming languages, the order in which operators are executed is called `precedence`.\n",
    "\n",
    "https://docs.python.org/3/reference/expressions.html#operator-precedence"
   ]
  },
  {
   "attachments": {},
   "cell_type": "markdown",
   "metadata": {},
   "source": [
    "![image.png](img/fb-math1.png)"
   ]
  },
  {
   "cell_type": "code",
   "execution_count": 29,
   "metadata": {},
   "outputs": [
    {
     "data": {
      "text/plain": [
       "9.0"
      ]
     },
     "execution_count": 29,
     "metadata": {},
     "output_type": "execute_result"
    }
   ],
   "source": [
    "6/2*(1+2)"
   ]
  },
  {
   "attachments": {},
   "cell_type": "markdown",
   "metadata": {},
   "source": [
    "![image.png](img/fb-math2.png)"
   ]
  },
  {
   "cell_type": "code",
   "execution_count": 30,
   "metadata": {},
   "outputs": [
    {
     "data": {
      "text/plain": [
       "16.0"
      ]
     },
     "execution_count": 30,
     "metadata": {},
     "output_type": "execute_result"
    }
   ],
   "source": [
    "8/2*(2+2)"
   ]
  },
  {
   "attachments": {},
   "cell_type": "markdown",
   "metadata": {},
   "source": [
    "### Variables and Types"
   ]
  },
  {
   "attachments": {},
   "cell_type": "markdown",
   "metadata": {},
   "source": [
    "There are some rules about what we call our variables.\n",
    "We can only use upper and lowercase letters A-Z, underscores `_` and 0-9. However, we can not use a number at the beginning of our variable name.\n",
    "\n",
    "When programming using Python, variable names **should** be `snake_case`. Meaning, we use all lowercase letters with words sparated by underscores.\n",
    "\n",
    "https://docs.python.org/3/reference/lexical_analysis.html#identifiers\n",
    "\n",
    "https://peps.python.org/pep-0008/"
   ]
  },
  {
   "cell_type": "code",
   "execution_count": 31,
   "metadata": {},
   "outputs": [],
   "source": [
    "max_speed = 70 # miles per hour; speed limit on the highway\n",
    "speed_of_light_in_vacuum = 299792458 # meters per second\n",
    "pOoRlYnaM_eDvaRIable = 1000 # this is an acceptable variable name\n",
    "                            # however, it is completely unreadable"
   ]
  },
  {
   "cell_type": "code",
   "execution_count": 32,
   "metadata": {},
   "outputs": [
    {
     "ename": "SyntaxError",
     "evalue": "invalid syntax (1191329541.py, line 2)",
     "output_type": "error",
     "traceback": [
      "\u001b[0;36m  Input \u001b[0;32mIn [32]\u001b[0;36m\u001b[0m\n\u001b[0;31m    2nd_most_player_home_runs_in_season = 70 # by Mark McGwire\u001b[0m\n\u001b[0m     ^\u001b[0m\n\u001b[0;31mSyntaxError\u001b[0m\u001b[0;31m:\u001b[0m invalid syntax\n"
     ]
    }
   ],
   "source": [
    "# an example of a malformed variable\n",
    "2nd_most_player_home_runs_in_season = 70 # by Mark McGwire"
   ]
  },
  {
   "attachments": {},
   "cell_type": "markdown",
   "metadata": {},
   "source": [
    "When programming, we won't always work with natural numbers. We can also use strings, rational numbers and Abstract Data Types.\n",
    "\n",
    "Below, the `best_band` variable is set to the value of `\"King Gizzard and the Lizard Wizard\"`, a string.\n",
    "\n",
    "The `nonagon_infinity_runtime` is set to the value of `41.75`, a rational number."
   ]
  },
  {
   "cell_type": "code",
   "execution_count": 33,
   "metadata": {},
   "outputs": [],
   "source": [
    "best_band = \"King Gizzard and the Lizard Wizard\"\n",
    "nonagon_infinity_runtime = 41.75 # minutes"
   ]
  },
  {
   "attachments": {},
   "cell_type": "markdown",
   "metadata": {},
   "source": [
    "### Built-in Functions"
   ]
  },
  {
   "attachments": {},
   "cell_type": "markdown",
   "metadata": {},
   "source": [
    "Python contains many built-in functions such as `print()` and `abs()`. \n",
    "\n",
    "https://docs.python.org/3.9/library/functions.html"
   ]
  },
  {
   "cell_type": "code",
   "execution_count": 36,
   "metadata": {},
   "outputs": [
    {
     "name": "stdout",
     "output_type": "stream",
     "text": [
      "-32\n",
      "32\n",
      "3.14\n",
      "3.1\n",
      "3\n"
     ]
    }
   ],
   "source": [
    "# output the value of `x` under this cell\n",
    "print(x)\n",
    "# output the absolute value of `x` under this cell\n",
    "print(abs(x))\n",
    "\n",
    "some_float = 3.14\n",
    "print(some_float)\n",
    "print(round(some_float, 1))\n",
    "print(int(some_float))"
   ]
  },
  {
   "attachments": {},
   "cell_type": "markdown",
   "metadata": {},
   "source": [
    "### Control Structures"
   ]
  },
  {
   "attachments": {},
   "cell_type": "markdown",
   "metadata": {},
   "source": [
    "Until now, we have been using a very linear approach to programming; however, this can get tedious once our programs become larger. In Python we have structures that allow our code to act differently given different inputs, and repeat certain operations.\n",
    "\n",
    "First, we will see the conditional control structures.\n",
    "\n",
    "In order to utilize conditional control structures, we employ the comparison and logical operators."
   ]
  },
  {
   "cell_type": "code",
   "execution_count": 6,
   "metadata": {},
   "outputs": [
    {
     "name": "stdout",
     "output_type": "stream",
     "text": [
      "5 is odd.\n"
     ]
    }
   ],
   "source": [
    "some_integer = 5\n",
    "if some_integer % 2 == 0:\n",
    "    print(f\"{some_integer} is even.\")\n",
    "elif some_integer % 2 == 1:\n",
    "    print(f\"{some_integer} is odd.\")\n",
    "else:\n",
    "    print(f\"{some_integer} is neither even nor odd.\")"
   ]
  },
  {
   "attachments": {},
   "cell_type": "markdown",
   "metadata": {},
   "source": [
    "Great! Now our program can start making descisions.\n",
    "\n",
    "Conditional control structures use Boolean logic in order to make decisions.\n",
    "\n",
    "Comparison and logical operators evaluate to a Boolean value."
   ]
  },
  {
   "cell_type": "code",
   "execution_count": 29,
   "metadata": {},
   "outputs": [
    {
     "name": "stdout",
     "output_type": "stream",
     "text": [
      "False\n"
     ]
    }
   ],
   "source": [
    "is_even = some_integer % 2 == 0\n",
    "print(is_even)"
   ]
  },
  {
   "attachments": {},
   "cell_type": "markdown",
   "metadata": {},
   "source": [
    "Next, we want our programs to repeat themselves."
   ]
  },
  {
   "cell_type": "code",
   "execution_count": 14,
   "metadata": {},
   "outputs": [
    {
     "name": "stdout",
     "output_type": "stream",
     "text": [
      "55\n"
     ]
    }
   ],
   "source": [
    "# summations\n",
    "start_int = 1\n",
    "stop_int = 10\n",
    "sum = 0\n",
    "\n",
    "for i in range(start_int, stop_int + 1):\n",
    "    sum += i\n",
    "\n",
    "print(sum)"
   ]
  },
  {
   "attachments": {},
   "cell_type": "markdown",
   "metadata": {},
   "source": [
    "With these control structures, we can now approach a multitude of problems.\n",
    "\n",
    "Let's try FizzBuzz. The rules are simple:\n",
    "\n",
    "For a number `n`, print \"Fizz\" if the number is divisible by 3, \"Buzz\" if the number is divisible by 5 and \"FizzBuz\" if the number is divisible by 3 and 5. We will do this up to *and including* 20."
   ]
  },
  {
   "cell_type": "code",
   "execution_count": null,
   "metadata": {},
   "outputs": [],
   "source": [
    "for n in range(1, 21):\n",
    "    if n % 15 == 0:\n",
    "        print(\"FizzBuzz\")\n",
    "    elif n % 3 == 0:\n",
    "        print(\"Fizz\")\n",
    "    elif n % 5 == 0:\n",
    "        print(\"Buzz\")\n",
    "    else:\n",
    "        print(n)"
   ]
  },
  {
   "attachments": {},
   "cell_type": "markdown",
   "metadata": {},
   "source": [
    "In advanced Python, it can look like this:"
   ]
  },
  {
   "cell_type": "code",
   "execution_count": null,
   "metadata": {},
   "outputs": [],
   "source": [
    "# don't write code this way\n",
    "print(*map(lambda i: 'Fizz'*(not i%3)+'Buzz'*(not i%5) or i, range(1,21)),sep='\\n')"
   ]
  },
  {
   "attachments": {},
   "cell_type": "markdown",
   "metadata": {},
   "source": [
    "Try a few https://projecteuler.net/ exercises."
   ]
  }
 ],
 "metadata": {
  "kernelspec": {
   "display_name": "base",
   "language": "python",
   "name": "python3"
  },
  "language_info": {
   "codemirror_mode": {
    "name": "ipython",
    "version": 3
   },
   "file_extension": ".py",
   "mimetype": "text/x-python",
   "name": "python",
   "nbconvert_exporter": "python",
   "pygments_lexer": "ipython3",
   "version": "3.9.13 (main, Aug 25 2022, 23:26:10) \n[GCC 11.2.0]"
  },
  "orig_nbformat": 4,
  "vscode": {
   "interpreter": {
    "hash": "5242055664bce074fee279b208219e16322870de4fcc3dd2bf4f58274459c6d0"
   }
  }
 },
 "nbformat": 4,
 "nbformat_minor": 2
}
